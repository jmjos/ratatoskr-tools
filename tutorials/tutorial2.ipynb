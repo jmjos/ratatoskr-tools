{
 "metadata": {
  "language_info": {
   "codemirror_mode": {
    "name": "ipython",
    "version": 3
   },
   "file_extension": ".py",
   "mimetype": "text/x-python",
   "name": "python",
   "nbconvert_exporter": "python",
   "pygments_lexer": "ipython3",
   "version": "3.8.5-final"
  },
  "orig_nbformat": 2,
  "kernelspec": {
   "name": "python3",
   "display_name": "Python 3.8.5 64-bit ('venv')",
   "metadata": {
    "interpreter": {
     "hash": "dd5a0eeb73c92a7fe1563e85a4d57fc3587431a6fffcaaeccae31173abaee332"
    }
   }
  }
 },
 "nbformat": 4,
 "nbformat_minor": 2,
 "cells": [
  {
   "source": [
    "# Tutorial 2: ratatoskr GUI client\n",
    "\n",
    "In this tutorial, you will know how to use the ratatoskr GUI client, which let you to see the router heat (traffic business) of the NoC."
   ],
   "cell_type": "markdown",
   "metadata": {}
  },
  {
   "source": [
    "## Prerequisite\n",
    "\n",
    "Before this tutorial, it is required to compile and retrieve the execution simulator program \"./sim\" from the ratatoskr/simulator repository. Here, we need to add \"-DDEFINE_ENABLE_GUI\" while executing the cmake.\n",
    "Let's compile the simulator:\n",
    "```console\n",
    "$ cd ../ratatoskr/simulator\n",
    "$ cmake -DDEFINE_ENABLE_GUI=ON\n",
    "$ make\n",
    "$ cd ../../tutorials\n",
    "```"
   ],
   "cell_type": "markdown",
   "metadata": {}
  },
  {
   "source": [
    "## Step 1 Network Configuration\n",
    "Create the config.ini file and generate the config.xml and network.xml files."
   ],
   "cell_type": "markdown",
   "metadata": {}
  },
  {
   "cell_type": "code",
   "execution_count": 1,
   "metadata": {},
   "outputs": [],
   "source": [
    "import ratatoskr_tools.networkconfig as rtcfg\n",
    "\n",
    "rtcfg.create_config_ini(\"./example/config.ini\")\n",
    "config = rtcfg.create_configuration(\"./example/config.ini\", \"./example/config.xml\", \"./example/network.xml\")"
   ]
  },
  {
   "source": [
    "## Step 2 Dynamic Network Plotting\n",
    "\n",
    "Use the provided API to run the ratatoskr GUI client."
   ],
   "cell_type": "markdown",
   "metadata": {}
  },
  {
   "cell_type": "code",
   "execution_count": null,
   "metadata": {},
   "outputs": [],
   "source": [
    "import ratatoskr_tools.networkplot as rtnplt\n",
    "\n",
    "rtnplt.plot_dynamic(\"./example/network.xml\")"
   ]
  },
  {
   "source": [
    "## Step 3 Run the simulation.\n",
    "\n",
    "Open another terminal to run the simulation, where this simulator is compiled with the enable gui options (-D ENABLE_GUI).\n",
    "\n",
    "```console\n",
    "$ ../ratatoskr/simulator/sim --configPath=./example/config.xml --networkPath=./example/network.xml --outputPath=./example\n",
    "```\n",
    "\n",
    "The ratatoskr GUI client windows will be opened."
   ],
   "cell_type": "markdown",
   "metadata": {}
  },
  {
   "cell_type": "code",
   "execution_count": null,
   "metadata": {},
   "outputs": [],
   "source": []
  }
 ]
}