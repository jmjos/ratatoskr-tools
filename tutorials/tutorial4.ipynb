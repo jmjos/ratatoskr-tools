{
 "metadata": {
  "language_info": {
   "codemirror_mode": {
    "name": "ipython",
    "version": 3
   },
   "file_extension": ".py",
   "mimetype": "text/x-python",
   "name": "python",
   "nbconvert_exporter": "python",
   "pygments_lexer": "ipython3",
   "version": 3
  },
  "orig_nbformat": 2
 },
 "nbformat": 4,
 "nbformat_minor": 2,
 "cells": [
  {
   "source": [
    "# Tutorial 4 Running Netrace PARSEC mode\n",
    "\n",
    "In this tutorial, you will learn the step to run the simulation in PARSEC mode."
   ],
   "cell_type": "markdown",
   "metadata": {}
  },
  {
   "source": [
    "## Prerequisite\n",
    "Before this tutorial, it is required to compile and retrieve the execution simulator program \"./sim\" from the ratatoskr/simulator repository. Here, we need to add \"-DDEFINE_ENABLE_NETRACE\" while executing the cmake.\n",
    "Let's compile the simulator:\n",
    "```console\n",
    "$ cd ../ratatoskr/simulator\n",
    "$ cmake -DDEFINE_ENABLE_NETRACE=ON\n",
    "$ make\n",
    "$ cd ../../tutorials\n",
    "```\n",
    "\n",
    "Here, we set the simulator path as shown:\n"
   ],
   "cell_type": "markdown",
   "metadata": {}
  },
  {
   "cell_type": "code",
   "execution_count": null,
   "metadata": {},
   "outputs": [],
   "source": [
    "SIM_PATH = \"../ratatoskr/simulator/sim\""
   ]
  },
  {
   "source": [
    "## Step 1 Download the netrace file.\n",
    "Let's download and use the netrace simulation file (blackscholes_64c_simsmall) for this tutorial. For other netrace trace file, checkout https://www.cs.utexas.edu/~netrace/."
   ],
   "cell_type": "markdown",
   "metadata": {}
  },
  {
   "cell_type": "code",
   "execution_count": null,
   "metadata": {},
   "outputs": [],
   "source": [
    "import os\n",
    "from subprocess import call\n",
    "\n",
    "url = \"https://www.cs.utexas.edu/~netrace/download/blackscholes_64c_simsmall.tra.bz2\"\n",
    "if not os.path.isfile(\"blackscholes_64c_simsmall.tra.bz2\"):\n",
    "    call([\"wget\", url])\n"
   ]
  },
  {
   "source": [
    "# Step 2 Create and edit configuration\n",
    "Due to the netrace simulation requires NoC with at least 64 cores, so we need to edit the config.ini file. The NoC layout of 8x4x2 is created. The partial edited config.ini file is shown:\n",
    "```ini\n",
    "[Hardware]\n",
    "topology = mesh\n",
    "x = [8,8]\n",
    "y = [4,4]\n",
    "z = 2\n",
    "routing = XYZ\n",
    "clockDelay = [1,1]\n",
    "```"
   ],
   "cell_type": "markdown",
   "metadata": {}
  },
  {
   "cell_type": "code",
   "execution_count": null,
   "metadata": {},
   "outputs": [],
   "source": [
    "import ratatoskr_tools.networkconfig as rtcfg\n",
    "import configparser\n",
    "\n",
    "rtcfg.create_config_ini(\"./example/config.ini\")\n",
    "config = configparser.ConfigParser()\n",
    "config.read(\"./example/config.ini\")\n",
    "config[\"Hardware\"][\"x\"] = \"[8,8]\"\n",
    "config[\"Hardware\"][\"y\"] = \"[4,4]\"\n",
    "config[\"Hardware\"][\"z\"] = \"2\"\n",
    "config[\"Hardware\"][\"clockDelay\"] = \"[1,1]\"\n",
    "with open(\"./example/config.ini\", \"w\") as handle:\n",
    "    config.write(handle)\n",
    "cfg = rtcfg.create_configuration(\"./example/config.ini\", \"./example/config.xml\", \"./example/network.xml\")"
   ]
  },
  {
   "source": [
    "## Step 3 Run the simulation\n",
    "The function run_single_sim can accept more kwargs which are acceptable by the simulator (SIM_PATH). Here, we set the simulation time to 10000ns and start from netrace region 0. The verbosity is set to \"all\", so that you can see all the simulation step in details and this info is written to the \"log\" file (stdout)."
   ],
   "cell_type": "markdown",
   "metadata": {}
  },
  {
   "cell_type": "code",
   "execution_count": null,
   "metadata": {},
   "outputs": [],
   "source": [
    "import ratatoskr_tools.simulation as rtsim\n",
    "\n",
    "rtsim.run_single_sim(SIM_PATH, \"./example/config.xml\", \"./example/network.xml\", output_dir=\"./example/\", stdout=\"./example/log\",\n",
    "    simTime=10000,\n",
    "    netraceTraceFile=\"blackscholes_64c_simsmall.tra.bz2\",\n",
    "    netraceRegion=0,\n",
    "    netraceVerbosity=\"all\"\n",
    "    )\n"
   ]
  }
 ]
}